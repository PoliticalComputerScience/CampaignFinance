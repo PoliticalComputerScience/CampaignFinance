{
 "cells": [
  {
   "cell_type": "markdown",
   "metadata": {},
   "source": [
    "# Analysis - Congressional Fundraising and Votes"
   ]
  },
  {
   "cell_type": "markdown",
   "metadata": {},
   "source": [
    "### Set-up"
   ]
  },
  {
   "cell_type": "code",
   "execution_count": 7,
   "metadata": {},
   "outputs": [
    {
     "data": {
      "text/html": [
       "<div>\n",
       "<style>\n",
       "    .dataframe thead tr:only-child th {\n",
       "        text-align: right;\n",
       "    }\n",
       "\n",
       "    .dataframe thead th {\n",
       "        text-align: left;\n",
       "    }\n",
       "\n",
       "    .dataframe tbody tr th {\n",
       "        vertical-align: top;\n",
       "    }\n",
       "</style>\n",
       "<table border=\"1\" class=\"dataframe\">\n",
       "  <thead>\n",
       "    <tr style=\"text-align: right;\">\n",
       "      <th></th>\n",
       "      <th>text</th>\n",
       "      <th>amount</th>\n",
       "      <th>vote</th>\n",
       "      <th>party</th>\n",
       "    </tr>\n",
       "  </thead>\n",
       "  <tbody>\n",
       "    <tr>\n",
       "      <th>1</th>\n",
       "      <td>Candidate</td>\n",
       "      <td>Candidate Raised</td>\n",
       "      <td>0</td>\n",
       "      <td>0</td>\n",
       "    </tr>\n",
       "    <tr>\n",
       "      <th>2</th>\n",
       "      <td>Bradley Byrne (R) • Incumbent • Winner</td>\n",
       "      <td>1366370</td>\n",
       "      <td>0</td>\n",
       "      <td>0</td>\n",
       "    </tr>\n",
       "    <tr>\n",
       "      <th>3</th>\n",
       "      <td>Alabama District 02</td>\n",
       "      <td>NaN</td>\n",
       "      <td>0</td>\n",
       "      <td>0</td>\n",
       "    </tr>\n",
       "    <tr>\n",
       "      <th>4</th>\n",
       "      <td>Candidate</td>\n",
       "      <td>Candidate Raised</td>\n",
       "      <td>0</td>\n",
       "      <td>0</td>\n",
       "    </tr>\n",
       "    <tr>\n",
       "      <th>5</th>\n",
       "      <td>Martha Roby (R) • Incumbent • Winner</td>\n",
       "      <td>1381821</td>\n",
       "      <td>0</td>\n",
       "      <td>0</td>\n",
       "    </tr>\n",
       "    <tr>\n",
       "      <th>8</th>\n",
       "      <td>Alabama District 03</td>\n",
       "      <td>NaN</td>\n",
       "      <td>0</td>\n",
       "      <td>0</td>\n",
       "    </tr>\n",
       "    <tr>\n",
       "      <th>9</th>\n",
       "      <td>Candidate</td>\n",
       "      <td>Candidate Raised</td>\n",
       "      <td>0</td>\n",
       "      <td>0</td>\n",
       "    </tr>\n",
       "    <tr>\n",
       "      <th>10</th>\n",
       "      <td>Mike D Rogers (R) • Incumbent • Winner</td>\n",
       "      <td>1137285</td>\n",
       "      <td>0</td>\n",
       "      <td>0</td>\n",
       "    </tr>\n",
       "    <tr>\n",
       "      <th>11</th>\n",
       "      <td>Jesse Smith (D)</td>\n",
       "      <td>9810</td>\n",
       "      <td>0</td>\n",
       "      <td>0</td>\n",
       "    </tr>\n",
       "  </tbody>\n",
       "</table>\n",
       "</div>"
      ],
      "text/plain": [
       "                                      text            amount  vote  party\n",
       "1                                Candidate  Candidate Raised     0      0\n",
       "2   Bradley Byrne (R) • Incumbent • Winner           1366370     0      0\n",
       "3                      Alabama District 02               NaN     0      0\n",
       "4                                Candidate  Candidate Raised     0      0\n",
       "5     Martha Roby (R) • Incumbent • Winner           1381821     0      0\n",
       "8                      Alabama District 03               NaN     0      0\n",
       "9                                Candidate  Candidate Raised     0      0\n",
       "10  Mike D Rogers (R) • Incumbent • Winner           1137285     0      0\n",
       "11                         Jesse Smith (D)              9810     0      0"
      ]
     },
     "execution_count": 7,
     "metadata": {},
     "output_type": "execute_result"
    }
   ],
   "source": [
    "#import dependencies\n",
    "import pandas as pd\n",
    "import matplotlib\n",
    "import matplotlib.pyplot as plt\n",
    "import numpy as np\n",
    "import seaborn as sns\n",
    "import sqlite3 as lite\n",
    "import sys\n",
    "\n",
    "#plt.style.use('fivethirtyeight')\n",
    "sns.set()\n",
    "%matplotlib inline\n",
    "#import dataset\n",
    "data = pd.read_csv('new data.csv')\n",
    "data['vote'] = [0 for _ in range(len(data))]\n",
    "data['party'] = [0 for _ in range(len(data))]\n",
    "#remove candidates for which we have no fundrasing data\n",
    "data = data[data['amount'] != '0']\n",
    "\n",
    "#prepare for cleaning\n",
    "a = np.array(data.as_matrix())\n",
    "data[1:10]"
   ]
  },
  {
   "cell_type": "markdown",
   "metadata": {},
   "source": [
    "### Cleaning"
   ]
  },
  {
   "cell_type": "markdown",
   "metadata": {},
   "source": [
    "#### Clean Fundraising Data"
   ]
  },
  {
   "cell_type": "code",
   "execution_count": 8,
   "metadata": {
    "collapsed": true
   },
   "outputs": [],
   "source": [
    "#trim candidate names\n",
    "for i in range(len(a)):\n",
    "    t = a[i][0].split(' (')\n",
    "    a[i][0] = t[0]\n",
    "    if len(t) > 1:\n",
    "        a[i][3] = t[1].split(')')[0]\n",
    "\n",
    "#split large dataset into small arrays by district\n",
    "b = np.split(a, (a.transpose()[0] == 'Candidate').nonzero()[0] - 1)\n",
    "#for i in range(len(b)):\n",
    "#    b[i] = b[i][1:]\n",
    "    #todo: add votes header\n",
    "us_state_abbrev = { 'Alabama': 'AL', 'Alaska': 'AK', 'Arizona': 'AZ', 'Arkansas': 'AR',\n",
    "                   'California': 'CA', 'Colorado': 'CO', 'Connecticut': 'CT', 'Delaware': 'DE',\n",
    "                   'Florida': 'FL', 'Georgia': 'GA', 'Hawaii': 'HI', 'Idaho': 'ID', 'Illinois': 'IL',\n",
    "                   'Indiana': 'IN', 'Iowa': 'IA', 'Kansas': 'KS', 'Kentucky': 'KY', 'Louisiana': 'LA',\n",
    "                   'Maine': 'ME', 'Maryland': 'MD', 'Massachusetts': 'MA', 'Michigan': 'MI',\n",
    "                   'Minnesota': 'MN', 'Mississippi': 'MS', 'Missouri': 'MO', 'Montana': 'MT',\n",
    "                   'Nebraska': 'NE', 'Nevada': 'NV', 'New Hampshire': 'NH', 'New Jersey': 'NJ',\n",
    "                   'New Mexico': 'NM', 'New York': 'NY', 'North Carolina': 'NC', 'North Dakota': 'ND',\n",
    "                   'Ohio': 'OH', 'Oklahoma': 'OK', 'Oregon': 'OR', 'Pennsylvania': 'PA',\n",
    "                   'Rhode Island': 'RI', 'South Carolina': 'SC', 'South Dakota': 'SD', 'Tennessee': 'TN',\n",
    "                   'Texas': 'TX', 'Utah': 'UT', 'Vermont': 'VT', 'Virginia': 'VA', 'Washington': 'WA',\n",
    "                   'West Virginia': 'WV', 'Wisconsin': 'WI', 'Wyoming': 'WY', }"
   ]
  },
  {
   "cell_type": "markdown",
   "metadata": {},
   "source": [
    "#### Clean Voting Data"
   ]
  },
  {
   "cell_type": "code",
   "execution_count": 3,
   "metadata": {
    "collapsed": true
   },
   "outputs": [],
   "source": [
    "#read votes data\n",
    "voting = pd.read_csv('voting2.csv')\n",
    "v = voting.values\n",
    "to_del = []\n",
    "for i in  range(len(v)):\n",
    "    v[i][0] = v[i][0].split(' (')\n",
    "    if '%' in v[i][0][1]:\n",
    "        t = v[i][0][1].split(') ')[1]\n",
    "        vote = t[:t.index('%')]\n",
    "        try:\n",
    "            vote = float(vote)\n",
    "            if vote < 5:\n",
    "                to_del.append(i)\n",
    "            v[i][0][1] = vote\n",
    "        except ValueError:\n",
    "            #delete rows for which we don't have vote data\n",
    "            to_del.append(i)\n",
    "    else:\n",
    "        to_del.append(i)\n",
    "v = np.delete(v, to_del, 0)\n",
    "for i in range(len(a)):\n",
    "    if a[i][3] == 0:\n",
    "        j = 1\n",
    "    elif a[i][3] == 'R':\n",
    "        a[i][3] = 0.0\n",
    "    elif a[i][3] == 'D':\n",
    "        a[i][3] = 1.0\n",
    "    else:\n",
    "        a[i][3] = 0.5"
   ]
  },
  {
   "cell_type": "markdown",
   "metadata": {},
   "source": [
    "#### Match Vote % to Candidates\n",
    "\n"
   ]
  },
  {
   "cell_type": "code",
   "execution_count": 4,
   "metadata": {
    "collapsed": true
   },
   "outputs": [],
   "source": [
    "#todo: make more efficient\n",
    "for k in range(len(v)):\n",
    "    for i in range(len(b)):\n",
    "        if v[k][0][0] in b[i][:,0]:\n",
    "            for j in range(len(b[i])):\n",
    "                if v[k][0][0] in b[i][j]:\n",
    "                    b[i][j][2] = v[k][0][1]"
   ]
  },
  {
   "cell_type": "markdown",
   "metadata": {},
   "source": [
    "#### Example Chunk"
   ]
  },
  {
   "cell_type": "code",
   "execution_count": 5,
   "metadata": {},
   "outputs": [
    {
     "data": {
      "text/html": [
       "<div>\n",
       "<style>\n",
       "    .dataframe thead tr:only-child th {\n",
       "        text-align: right;\n",
       "    }\n",
       "\n",
       "    .dataframe thead th {\n",
       "        text-align: left;\n",
       "    }\n",
       "\n",
       "    .dataframe tbody tr th {\n",
       "        vertical-align: top;\n",
       "    }\n",
       "</style>\n",
       "<table border=\"1\" class=\"dataframe\">\n",
       "  <thead>\n",
       "    <tr style=\"text-align: right;\">\n",
       "      <th></th>\n",
       "      <th>0</th>\n",
       "      <th>1</th>\n",
       "      <th>2</th>\n",
       "      <th>3</th>\n",
       "    </tr>\n",
       "  </thead>\n",
       "  <tbody>\n",
       "    <tr>\n",
       "      <th>0</th>\n",
       "      <td>California District 42</td>\n",
       "      <td>NaN</td>\n",
       "      <td>0</td>\n",
       "      <td>0</td>\n",
       "    </tr>\n",
       "    <tr>\n",
       "      <th>1</th>\n",
       "      <td>Candidate</td>\n",
       "      <td>Candidate Raised</td>\n",
       "      <td>0</td>\n",
       "      <td>0</td>\n",
       "    </tr>\n",
       "    <tr>\n",
       "      <th>2</th>\n",
       "      <td>Ken Calvert</td>\n",
       "      <td>1443899</td>\n",
       "      <td>58.8</td>\n",
       "      <td>0</td>\n",
       "    </tr>\n",
       "    <tr>\n",
       "      <th>3</th>\n",
       "      <td>Tim Sheridan</td>\n",
       "      <td>138396</td>\n",
       "      <td>41.2</td>\n",
       "      <td>1</td>\n",
       "    </tr>\n",
       "  </tbody>\n",
       "</table>\n",
       "</div>"
      ],
      "text/plain": [
       "                        0                 1     2  3\n",
       "0  California District 42               NaN     0  0\n",
       "1               Candidate  Candidate Raised     0  0\n",
       "2             Ken Calvert           1443899  58.8  0\n",
       "3            Tim Sheridan            138396  41.2  1"
      ]
     },
     "execution_count": 5,
     "metadata": {},
     "output_type": "execute_result"
    }
   ],
   "source": [
    "df = pd.DataFrame(b[63])\n",
    "df\n",
    "#todo: convert headers"
   ]
  },
  {
   "cell_type": "markdown",
   "metadata": {},
   "source": [
    "### Calculations"
   ]
  },
  {
   "cell_type": "markdown",
   "metadata": {},
   "source": [
    "#### Calculate % Raised for Each Candiate in Chunk\n",
    "\n"
   ]
  },
  {
   "cell_type": "code",
   "execution_count": 6,
   "metadata": {},
   "outputs": [
    {
     "data": {
      "text/plain": [
       "<matplotlib.collections.PathCollection at 0x1d8c9585dd8>"
      ]
     },
     "execution_count": 6,
     "metadata": {},
     "output_type": "execute_result"
    },
    {
     "data": {
      "image/png": "[encoded data removed]",
      "text/plain": [
       "<matplotlib.figure.Figure at 0x1d8cb9977b8>"
      ]
     },
     "metadata": {},
     "output_type": "display_data"
    }
   ],
   "source": [
    "def calc(x):\n",
    "    total = sum(x[2:][:,1].astype(int))\n",
    "    names = x[2:][:,0].astype(str)\n",
    "    spends = [i / total for i in x[2:][:,1].astype(int)]\n",
    "    votes = x[2:][:,2].astype(float)\n",
    "    #return list of lists: [% raised, % votes]\n",
    "    i = [list(a) for a in zip(spends, votes, x[2:][:,3], names)]\n",
    "    for j in i:\n",
    "        j.append(total)\n",
    "        #print(us_state_abbrev[x[0][0].split(' District ')[0]] + x[0][0].split(' District ')[1], j)\n",
    "    return i\n",
    "\n",
    "d = np.array([[0,0, 0, 0, 0]])\n",
    "for i in range(1, len(b)):\n",
    "    d = np.concatenate((d, calc(b[i])), axis = 0)\n",
    "x, y, = d[:,0], d[:,1]\n",
    "plt.scatter(x, y)"
   ]
  },
  {
   "cell_type": "code",
   "execution_count": null,
   "metadata": {
    "collapsed": true
   },
   "outputs": [],
   "source": []
  },
  {
   "cell_type": "code",
   "execution_count": null,
   "metadata": {
    "collapsed": true
   },
   "outputs": [],
   "source": []
  }
 ],
 "metadata": {
  "kernelspec": {
   "display_name": "Python 3",
   "language": "python",
   "name": "python3"
  },
  "language_info": {
   "codemirror_mode": {
    "name": "ipython",
    "version": 3
   },
   "file_extension": ".py",
   "mimetype": "text/x-python",
   "name": "python",
   "nbconvert_exporter": "python",
   "pygments_lexer": "ipython3",
   "version": "3.6.1"
  }
 },
 "nbformat": 4,
 "nbformat_minor": 2
}
